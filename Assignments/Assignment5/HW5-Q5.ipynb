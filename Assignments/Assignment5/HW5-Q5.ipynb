{
 "cells": [
  {
   "cell_type": "markdown",
   "metadata": {},
   "source": [
    "<div style=\"direction:rtl;line-height:200%;\">\n",
    "<font face=\"XB Zar\" size=5>\n",
    "<center>\n",
    "به نام خداوند بخشنده‌ی مهربان\n",
    "<br><br><br>\n",
    "تمرین پنجم - سوال پنجم\n",
    "<br><br>\n",
    "</center>\n",
    "\n",
    "</font>\n",
    "    \n",
    "<font face=\"XB Zar\" size=3>\n",
    "    \n",
    "* در این تمرین آزادید سلول‌های جدید کد یا فایل‌های جدید `ipynb.`  یا `py.` را ایجاد کنید و کد موجود در آنها را مورد فراخوانی و استفاده قرار دهید. اما دقت کنید کد نهایی شما که باعث تولید پاسخ‌ها می‌شود بایستی از طریق فراخوانی‌های موجود در همین دفترچه اجرا شود.\n",
    "* سوالات خودتان را از طریق وبسایت کوئرا بپرسید.\n",
    "\n",
    "</font>\n",
    "</div>"
   ]
  },
  {
   "cell_type": "markdown",
   "metadata": {},
   "source": [
    "<hr><hr><hr>\n",
    "<div style=\"direction:rtl;line-height:300%;\">\n",
    "<font face=\"XB Zar\" size=6>\n",
    "<font style=\"color:blue;\"><strong>پرسش ۱</strong> </font>\n",
    "</font>\n",
    "</div>"
   ]
  },
  {
   "cell_type": "markdown",
   "metadata": {},
   "source": [
    "<div style=\"direction:rtl;line-height:200%;\">\n",
    "<font style=\"direction:rtl;\" face=\"XB Zar\" size=3>\n",
    "در این مساله می‌خواهیم استفاده از تکنیک double buffering  برای سرعت بخشیدن به الگوریتم external merge sort را بررسی کنیم. با این الگوریتم در اسلاید‌های درس آشنا شده‌اید.\n",
    "<br>\n",
    "گرچه این الگوریتم و هزینه‌ی آن را به صورت صریح و دقیق در اسلاید‌ها مدل نکرده‌ایم، می‌دانیم دسترسی به داده‌های نوشته شده در حافظه با locality بالا سریعتر از دسترسی تصادفی است. یعنی دسترسی به page های متوالی حافظه از طریق sequential IO سریعتر از random IO است.\n",
    "<br>\n",
    "به بیانی دیگر خواند ۸ صفحه‌ی متوالی از فایل A و سپس خواند ۸ صفحه‌ی متوالی از فایل B بسیار سریعتر از خواند یکی در میان صفحات A و B است.\n",
    "<br>\n",
    "همچنین در تکنولوژی‌های حافظه‌ی امروزی خواندن اطلاعات از حافظه معمولا سریعتر از نوشتن آن است.\n",
    "<br><br>\n",
    "در این مساله مدلی برای این تفاوت‌ها ارايه می‌کنیم.\n",
    "\n",
    "* فرض می‌کنیم هر حداکثر ۸ \n",
    "<font style=\"color:red;\"><strong>خواندن</strong> </font>\n",
    "    متوالی از حافظه معادل تنها یک خواندن هزینه دارد و هزینه‌ی آن ۱ واحد IO است.\n",
    "* فرض می‌کنیم هزینه‌ی هر نوشتن دو برابر هزینه‌ی هر خواندن باشد.\n",
    "* نوشتن‌های متوالی مانند خواندن بدون هزینه نیستند. هزینه‌ی $N$ نوشتن متوالی همیشه $2N$ است.\n",
    "<br><br>\n",
    "نکات مهم دیگر:\n",
    "* برای این مساله الگوریتم merge sort را همان الگوریتم ارائه شده در اسلاید‌ها با optimization های اولیه در نظر بگیرید اما از Repacking Optimization استفاده نکنید.\n",
    "* فرض کنید یکی از page های buffer برای خروجی استفاده می‌شود و رزرو شده است. به عنوان مثال در این حالت یک merge $B$ طرفه نیازمند $B + 1$ page از buffer خواهد بود.\n",
    "* در محاسبات خود همواره اعداد به‌دست آمده را رند کنید و از هزینه‌های به دست آمده <font style=\"color:red;\"><strong>سقف</strong> </font> بگیرید.\n",
    "* همواره بدترین حالت ممکن (worst case scenario) را در محاسبات لحاظ کنید. به عنوان مثال اگر دو خواندن می‌توانند در حالت‌هایی متوالی باشند اما این توالی کلیت ندارد این دو خواندن را random IO در نظر بگیرید.\n",
    "</font>    \n",
    "</div>"
   ]
  },
  {
   "cell_type": "markdown",
   "metadata": {},
   "source": [
    "<hr><hr>\n",
    "<div style=\"direction:rtl;line-height:200%;\">\n",
    "<font style=\"direction:rtl;\" face=\"XB Zar\" size=3>\n",
    "الف\n",
    "<br>\n",
    "الگوریتم external merge sort را به گونه‌ای تغییر می‌دهیم که با هدف استفاده از خواندن‌های بدون هزینه‌ی متوالی، تمام عملیات خواند به صورت \n",
    "<font style=\"color:red;\"><strong>خواندن ۸ صفحه‌ی متوالی از حافظه</strong></font>\n",
    "انجام شود.\n",
    "<br><br>\n",
    "هزینه‌ی اجرای الگوریتم external merge sort را با $B + 1 = 40$ صفحه‌ی buffer و فایل ورودی نامرتب ۳۲۰ صفحه‌ای محاسبه کنید.\n",
    "<br>\n",
    "مراحل و منطق کارتان را با استفاده از comment های پایتون در سلول جواب شرح دهید.\n",
    "</font>    \n",
    "</div>"
   ]
  },
  {
   "cell_type": "markdown",
   "metadata": {},
   "source": [
    "<hr>\n",
    "<div style=\"direction:rtl;line-height:200%;\">\n",
    "<font style=\"direction:rtl;\" face=\"XB Zar\" size=3>\n",
    "الف - ۱\n",
    "<br>\n",
    "هزینه‌ی دقیق split کردن و مرتب سازی فایل‌های حاصل را بر حسب واحد IO محاسبه کنید.\n",
    "<br>\n",
    "طبق حالت استاندارد، اجرا‌های با اندازه‌ی $B + 1$ مورد نظر هستند.\n",
    "</font>\n",
    "</div>"
   ]
  },
  {
   "cell_type": "code",
   "execution_count": 1,
   "metadata": {},
   "outputs": [],
   "source": [
    "# In each run we have 40 pages so the run rate is \"40 pages per run\"\n",
    "# Overall we have 320 pages, so we need (N) / (B + !) = (320 pages) / (40 pages/run) = \"8 run\"\n",
    "# According to our 8-pages sequential chunks, IO cost for read in each run is (40 pages/run) / (8 pages/chunk read) = \"(5 IO cost/run)\"\n",
    "# Similar to read, we have for writes as follows: (40 page/run) * (2 IO cost/write) = \"(80 IO cost/run)\" since each write cost is twice read cost and there is no chunk.\n",
    "# Finally IO cost is calculated as follows: IO cost = Number of runs * (IO cost/run) = Number of runs * (IO cost/run of reads + IO cost/run of writes) = 8 run * (5 IO cost/run + 80 IO cost/run) = 680 IO cost\n",
    "io_split_sort = 680"
   ]
  },
  {
   "cell_type": "markdown",
   "metadata": {},
   "source": [
    "<hr>\n",
    "<div style=\"direction:rtl;line-height:200%;\">\n",
    "<font style=\"direction:rtl;\" face=\"XB Zar\" size=3>\n",
    "الف - ۲\n",
    "<br>\n",
    "بعد از آنکه فایل ورودی قسمت قسمت شده و هر قسمت به صورت جداگانه مرتب شد، می‌توانیم با استفاده از فرایند merge هر $n$ اجرا را با هم ادغام کنیم. \n",
    "<br>\n",
    "با فرض آنکه عملیات read همواره به صورت ۸ صفحه‌ای انجام می‌شود،\n",
    "بزرگترین $n$ ممکن چیست؟\n",
    "(به این عدد درجه‌ی merge می‌گویند).\n",
    "</font>\n",
    "</div>"
   ]
  },
  {
   "cell_type": "code",
   "execution_count": 2,
   "metadata": {},
   "outputs": [],
   "source": [
    "# Since we need one page of the buffer for merge we can only use B pages to fetch. \n",
    "# Also because we always read in 8-page chunks so we can merge at most floor(B/8) runs simultaneously.\n",
    "# Therefore merge_arity is floor(B/8) = floor(39/8) which is \"4\".\n",
    "merge_arity = 4"
   ]
  },
  {
   "cell_type": "markdown",
   "metadata": {},
   "source": [
    "<hr>\n",
    "<div style=\"direction:rtl;line-height:200%;\">\n",
    "<font style=\"direction:rtl;\" face=\"XB Zar\" size=3>\n",
    "الف - ۳\n",
    "<br>\n",
    "عملیات merge چندبار (چند pass) بایستی انجام شود؟\n",
    "</font>\n",
    "</div>"
   ]
  },
  {
   "cell_type": "code",
   "execution_count": 3,
   "metadata": {},
   "outputs": [],
   "source": [
    "# As mentioned previously, merge_arity is 4.\n",
    "# Ceiling(log_{n} (num of pages) / (B + 1)) is needed to be able to merge all the pages\n",
    "# Hence num of passes is = ceiling(log_{4} (320/40)) = \"2\" pass\n",
    "merge_passes = 2"
   ]
  },
  {
   "cell_type": "markdown",
   "metadata": {},
   "source": [
    "<hr>\n",
    "<div style=\"direction:rtl;line-height:200%;\">\n",
    "<font style=\"direction:rtl;\" face=\"XB Zar\" size=3>\n",
    "الف - ۴\n",
    "<br>\n",
    "هزینه‌ی اولین اجرای (pass) فرایند merge بر حسب واحد IO چقدر است؟ \n",
    "دقت کنید که عملیات merge با بالاترین درجه ممکن بایستی استفاده شود.\n",
    "</font>\n",
    "</div>"
   ]
  },
  {
   "cell_type": "code",
   "execution_count": 4,
   "metadata": {},
   "outputs": [],
   "source": [
    "# In the first merge pass we read all the pages and write them back all once.\n",
    "# Write IO cost is = (number of pages) * (IO cost/page) = 320 * 2 = \"640\".\n",
    "# Read IO cost is = (number of pages) / (pages/chunk) = 320 / 8 = \"40\" since IO cost for is 1 per chunk.\n",
    "# Therefore, Single merge pass is calculated as follows: IO cost = Write IO cost + Read IO cost = 640 + 40 = \"680\".\n",
    "\n",
    "merge_pass_1 = 680"
   ]
  },
  {
   "cell_type": "markdown",
   "metadata": {},
   "source": [
    "<hr>\n",
    "<div style=\"direction:rtl;line-height:200%;\">\n",
    "<font style=\"direction:rtl;\" face=\"XB Zar\" size=3>\n",
    "الف - ۵\n",
    "<br>\n",
    "هزینه‌ی کلی اجرای الگوریتم external merge sort بر حسب واحد IO چقدر است؟\n",
    "(در صورتی که pass های دیگری از merge باقی مانده است بایستی هزینه‌ی آنها را نیز در محاسبات خود در نظر بگیرید.)\n",
    "</font>\n",
    "</div>"
   ]
  },
  {
   "cell_type": "code",
   "execution_count": 5,
   "metadata": {},
   "outputs": [],
   "source": [
    "# IO cost consists of (IO cost of splitting and sort) and (IO cost of merges) \n",
    "# IO cost of merges = (merge IO cost) * (merge_passes) = 680 * 2 = \"1360\"\n",
    "# IO cost of splitting and sort is \"680\" (calculated previously)\n",
    "# So IO cost = 680 + 1360 = 2040\n",
    "total_io = 2040"
   ]
  },
  {
   "cell_type": "markdown",
   "metadata": {},
   "source": [
    "<hr><hr>\n",
    "<div style=\"direction:rtl;line-height:200%;\">\n",
    "<font style=\"direction:rtl;\" face=\"XB Zar\" size=3>\n",
    "ب\n",
    "<br>\n",
    "در این بخش پاسخ‌ها و استدلالی را که در بخش قبل مورد استفاده قرار دادیم، تعمیم خواهیم داد. تابعی به زبان python می‌نویسیم که تخمینی از هزینه‌ی IO اجرای الگوریتم external merge sort را با استفاده از یک بافر $B+1$ صفحه‌ای برای یک فایل نامرتب $N$ صفحه‌ای محاسبه کند. در اینجا عملیات خواندن را به جای ۸ صفحه‌ی متوالی در $P$ صفحه‌ی متوالی انجام خواهیم داد.\n",
    "<br>\n",
    "دقت کنید نتیجه‌ی تابع ما تنها به این علت تخمینی از هزینه‌ی واقعی است که در آن هزینه‌ی هر pass عملیات merge را با دیگر pass ها برابر در نظر می‌گیریم حال آنکه در عمل این هزینه‌ها می‌توانند با یکدیگر تفاوت داشته باشند. بقیه‌ی محاسبات طبق مدلی که ارئه کردیم بایستی دقیق باشند.\n",
    "<br>\n",
    "این تابع را (external_merge_sort_cost(B, N, P می‌نامیم.\n",
    "نتیجه‌ی آن را به صورت ترکیب هزینه‌ی خواندن و نوشتن داده‌ها در هر pass و تعداد pass های مورد نیاز محاسبه خواهیم کرد.\n",
    "<br>\n",
    "دقت کنید که با وجود آنکه نتیجه‌ی این تابع تخمینی از هزینه‌ی واقعی است، شما بایستی به دقت و هر جا که لازم است در محاسبات خود از نتایج کف یا سقف بگیرید که نتایج اعداد صحیح درستی باشند.\n",
    "</font>    \n",
    "</div>"
   ]
  },
  {
   "cell_type": "markdown",
   "metadata": {},
   "source": [
    "<hr>\n",
    "<div style=\"direction:rtl;line-height:200%;\">\n",
    "<font style=\"direction:rtl;\" face=\"XB Zar\" size=3>\n",
    "ب - ۱\n",
    "<br>\n",
    "تابع پایتونی بنویسید که هزینه‌ی \n",
    "<font style=\"color:red;\"><strong>دقیق</strong></font>\n",
    "تمام عملیات اولیه‌ی الگوریتم را بر حسب واحد IO محاسبه کند.\n",
    "</font>\n",
    "</div>"
   ]
  },
  {
   "cell_type": "code",
   "execution_count": 11,
   "metadata": {},
   "outputs": [],
   "source": [
    "import math\n",
    "def cost_initial_runs(B, N, P):\n",
    "    # As mention earlier, IO cost for write is (N * 2), this 2 coefficient is because the write cost\n",
    "    # Moreover, since we read P pages at once each time, IO cost for read is ceiling(N/P)\n",
    "    # So in total IO cost is (N * 2) + ceiling(N/P)\n",
    "    return (N * 2) + math.ceil(N/float(P))"
   ]
  },
  {
   "cell_type": "markdown",
   "metadata": {},
   "source": [
    "<hr>\n",
    "<div style=\"direction:rtl;line-height:200%;\">\n",
    "<font style=\"direction:rtl;\" face=\"XB Zar\" size=3>\n",
    "ب - ۲\n",
    "<br>\n",
    "تابع پایتونی بنویسید که هزینه‌ی تخمینی \n",
    "خواندن ورودی و نوشتن خروجی را در یک pass از عملیات merge محاسبه کند.\n",
    "<br>\n",
    "دقت کنید این هزینه از آنجایی یک تخمین است که فایل ورودی در ابتدای الگوریتم به بخش‌هایی تقسیم شده که لزوما یک اندازه نیستند و بالتبع کار کردن با آنها نیز هزینه‌هایی با تفاوت اندک خواهد داشت.\n",
    "</font>\n",
    "</div>"
   ]
  },
  {
   "cell_type": "code",
   "execution_count": 12,
   "metadata": {},
   "outputs": [],
   "source": [
    "import math\n",
    "def cost_per_pass(B, N, P):\n",
    "    # It is all the same as previous one So total cost is (N * 2) + ceiling(N/P)\n",
    "    return (N * 2) + math.ceil(N/float(P))"
   ]
  },
  {
   "cell_type": "markdown",
   "metadata": {},
   "source": [
    "<hr>\n",
    "<div style=\"direction:rtl;line-height:200%;\">\n",
    "<font style=\"direction:rtl;\" face=\"XB Zar\" size=3>\n",
    "ب - ۳\n",
    "<br>\n",
    "تابع پایتونی بنویسید که تعداد \n",
    "<font style=\"color:red;\"><strong>دقیق</strong></font>\n",
    "دفعات مورد نیاز اجرای الگوریتم merge را محاسبه کند.\n",
    "</font>\n",
    "</div>"
   ]
  },
  {
   "cell_type": "code",
   "execution_count": 13,
   "metadata": {},
   "outputs": [],
   "source": [
    "import math\n",
    "def num_passes(B, N, P):\n",
    "    # Due to explanation in the last part each step, floor(B/p) is number of blocks we can merge. Because one page in buffer must be kept free for output.\n",
    "    # num_of_passes is ceiling(log_{floor(B/P)}(ceiling(N/(B + 1)))) since we can merge floor(B/P) each part of each run.\n",
    "    return math.ceil(math.log(math.ceil(N/(B + 1)), math.floor(B/float(P))))"
   ]
  },
  {
   "cell_type": "markdown",
   "metadata": {},
   "source": [
    "<div style=\"direction:rtl;line-height:200%;\">\n",
    "<font style=\"direction:rtl;\" face=\"XB Zar\" size=3>\n",
    "در نهایت هزینه‌ی کلی به این صورت محاسبه می‌شود: \n",
    "</font>\n",
    "</div>"
   ]
  },
  {
   "cell_type": "code",
   "execution_count": 14,
   "metadata": {},
   "outputs": [],
   "source": [
    "def external_merge_sort_cost(B, N, P):\n",
    "    return cost_initial_runs(B,N,P) + cost_per_pass(B,N,P)*num_passes(B,N,P)"
   ]
  },
  {
   "cell_type": "markdown",
   "metadata": {},
   "source": [
    "<hr><hr>\n",
    "<div style=\"direction:rtl;line-height:200%;\">\n",
    "<font style=\"direction:rtl;\" face=\"XB Zar\" size=3>\n",
    "پ\n",
    "<br>\n",
    "عدد $P$ بهینه و زوج مرتب‌های مقادیر ممکن $P$ و هزینه‌ی IO متناظر با آنها را با استفاده از تابع هزینه‌ی کلی که در قسمت قبل نوشتید پیدا کنید.\n",
    "<br>\n",
    "فرض کنید که \n",
    "    $B + 1 = 100$ و $N = 900$.\n",
    "</font>    \n",
    "</div>"
   ]
  },
  {
   "cell_type": "code",
   "execution_count": 27,
   "metadata": {},
   "outputs": [
    {
     "name": "stdout",
     "output_type": "stream",
     "text": [
      "Optimal Page Chunk Size is:\n",
      "11\n"
     ]
    }
   ],
   "source": [
    "import math\n",
    "B = 99\n",
    "N = 900\n",
    "\n",
    "possible_Ps = range(1, math.floor(B/2))\n",
    "points = [(p, external_merge_sort_cost(B, N, p)) for p in possible_Ps]\n",
    "\n",
    "optimal_p = possible_Ps[0]\n",
    "for p in possible_Ps:\n",
    "    if external_merge_sort_cost(B, N, p) < external_merge_sort_cost(B, N, optimal_p):\n",
    "        optimal_p = p\n",
    "\n",
    "print(\"Optimal Page Chunk Size is:\")\n",
    "print(optimal_p)\n",
    "# print(points)\n",
    "#Optimal P is ready"
   ]
  },
  {
   "cell_type": "markdown",
   "metadata": {},
   "source": [
    "<div style=\"direction:rtl;line-height:200%;\">\n",
    "<font style=\"direction:rtl;\" face=\"XB Zar\" size=3>\n",
    "در اینجا قطعه کد راهنمایی برای استفاده از کتابخانه‌ی `matplotlib` برای تبدیل نقاط به دست آمده به نمودار در اختیار شما قرار گرفته. می‌توانید از این کد یا هر نرم‌افزار دیگری که دوست دارید برای تولید نمودار نهایی استفاده کنید. نتیجه‌ی حاصل را به همراه گزارش خود ارسال کنید.\n",
    "</font>\n",
    "</div>"
   ]
  },
  {
   "cell_type": "code",
   "execution_count": 25,
   "metadata": {},
   "outputs": [
    {
     "data": {
      "image/png": "[encoded data removed]",
      "text/plain": [
       "<Figure size 432x288 with 1 Axes>"
      ]
     },
     "metadata": {
      "needs_background": "light"
     },
     "output_type": "display_data"
    }
   ],
   "source": [
    "# Shell code for plotting in matplotlib\n",
    "%matplotlib inline\n",
    "import matplotlib.pyplot as plt\n",
    "\n",
    "# Plot\n",
    "plt.plot(*zip(*points))\n",
    "plt.title(\"IO Cost vs Page Chunk Size\")\n",
    "plt.ylabel(\"IO Cost\")\n",
    "plt.xlabel(\"Page Chunk Size: P\")\n",
    "plt.show()"
   ]
  },
  {
   "cell_type": "markdown",
   "metadata": {},
   "source": [
    "<hr><hr><hr>\n",
    "<div style=\"direction:rtl;line-height:300%;\">\n",
    "<font face=\"XB Zar\" size=6>\n",
    "<font style=\"color:blue;\"><strong>پرسش ۲</strong> </font>\n",
    "</font>\n",
    "</div>"
   ]
  },
  {
   "cell_type": "markdown",
   "metadata": {},
   "source": [
    "<div style=\"direction:rtl;line-height:200%;\">\n",
    "<font style=\"direction:rtl;\" face=\"XB Zar\" size=3>\n",
    "در این مساله می‌خواهیم هزینه‌ی الگوریتم‌های Join متفاوت را برای ادغام رابطه‌های $R(A,B)$، $S(B,C)$ و $T(C,D)$\n",
    "دو به دو با یکدیگر مقایسه کنیم و بهترین روش Join را در چند حالت مختلف پیدا کنیم.\n",
    "<br><br>\n",
    "در هر یک از سناریو‌های مطرح شده می‌خواهیم مقدار تمام یا برخی از این متغیر‌ها را پیدا کنیم:\n",
    "    \n",
    "* `P_R`: تعداد صفحات $R$\n",
    "* `P_S`: تعداد صفحات $S$\n",
    "* `P_RS`: تعداد صفحات خروجی (و ورودی) $RS$\n",
    "* `P_T`: تعداد صفحات $T$\n",
    "* `P_RST`: تعداد صفحات خروجی (و ورودی) $RS$\n",
    "* `B`: تعداد صفحات Buffer\n",
    "* `IO_cost_join1`: هزینه‌ی کلی اولین Join بر حسب واحد IO\n",
    "* `IO_cost_join2`: هزینه‌ی کلی دومین Join بر حسب واحد IO\n",
    "<br><br>\n",
    "نکات مهم:\n",
    "* خروجی اولین Join همواره به عنوان یکی از ورودی‌های دومین Join داده می‌شود.\n",
    "* در هیچ‌یک از الگوریتم‌های Join از Optimization های مطرح شده در Lecture ها استفاده نکنید و الگوریتم پایه را در نظر بگیرید.\n",
    "* فرض کنید یکی از صفحات Buffer برای خروجی رزرو شده است.\n",
    "* در این سوال از الگوریتم‌های(\n",
    "Sort-Merge Join (SMJ)،\n",
    "    Hash Join (HJ و\n",
    "    (Block Nested Loop Join (BNLJ استفاده خواهیم‌کرد. \n",
    "</font>    \n",
    "</div>"
   ]
  },
  {
   "cell_type": "markdown",
   "metadata": {},
   "source": [
    "<hr><hr>\n",
    "<div style=\"direction:rtl;line-height:200%;\">\n",
    "<font style=\"direction:rtl;\" face=\"XB Zar\" size=3>\n",
    "الف\n",
    "<br><br><br>\n",
    "با فرض:\n",
    "    \n",
    "* `P_R` = 20\n",
    "* `P_S` = 200\n",
    "* `P_T` = 2000\n",
    "* `P_RS` = 100\n",
    "* `P_ST` = 1000\n",
    "* `P_RST` = 500\n",
    "* `B` = 32\n",
    "</font>    \n",
    "</div>"
   ]
  },
  {
   "cell_type": "markdown",
   "metadata": {},
   "source": [
    "<div style=\"direction:rtl;line-height:200%;\">\n",
    "<font style=\"direction:rtl;\" face=\"XB Zar\" size=3>\n",
    "هزینه‌ی IO کلی هر یک از query plan های زیر را محاسبه کنید\n",
    "</font>    \n",
    "</div>\n",
    "\n",
    "* IO_Cost_HJ_1 where only hash join is used, $join1 = R(a,b),S(b,c)$ and $join2 = join1(a,b,c),T(c,d)$\n",
    "* IO_Cost_HJ_2 where only hash join is used, $join1 = T(c,d),S(b,c)$ and $join2 = join1(b,c,d),R(a,b)$\n",
    "* IO_Cost_SMJ_1 where only sort merge join is used, $join1 = R(a,b),S(b,c)$ and $join2 = join1(a,b,c),T(c,d)$\n",
    "* IO_Cost_SMJ_2 where only sort merge join is used, $join1 = T(c,d),S(b,c)$ and $join2 = join1(b,c,d),R(a,b)$\n",
    "* IO_Cost_BNLJ_1 where only block nested loop join is used, $join1 = R(a,b),S(b,c)$ and $join2 = join1(a,b,c),T(c,d)$\n",
    "* IO_Cost_BNLJ_2 where only block nested loop merge join is used, $join1 = T(c,d),S(b,c)$ and $join2 = join1(b,c,d),R(a,b)$\n",
    "\n",
    "<div style=\"direction:rtl;line-height:100%;\">\n",
    "<font style=\"direction:rtl;\" face=\"XB Zar\" size=3>\n",
    "در مورد performance هر query plan یک یا دو جمله در قالب comment های پایتون توضیح دهید. \n",
    "</font>    \n",
    "</div>\n"
   ]
  },
  {
   "cell_type": "code",
   "execution_count": null,
   "metadata": {},
   "outputs": [],
   "source": [
    "#P_R: 20\n",
    "#P_S: 200\n",
    "#P_T: 2000\n",
    "#P_RS: 100\n",
    "#P_ST: 1000\n",
    "#P_RST: 500\n",
    "#B: 32 \n",
    "\n",
    "# First we indicate each join formula, then all we have to do is to use them\n",
    "# Block_Nested_Loop_Join IO Cost = P(R) + ceiling(P(R) / B - 1)(P(S)) + OUT\n",
    "# Sort_Merge_Join IO Cost = 3(P(R) + P(S)) + OUT\n",
    "# Hash_Join IO Cost = ~3(P(R) + P(S)) + OUT in case of needing partition else IO Cost = P(R) + P(S) + OUT\n",
    "\n",
    "# IO_join1 = 20 + 200 + 100 OUT = 320 since there is no need to partition! \n",
    "# IO_join2 = 3 * (100 + 2000) + 500 OUT = 6800\n",
    "# Total = IO_join1 + IO_join2 = 6800 + 320 = 7120\n",
    "\n",
    "IO_Cost_HJ_1 = 7120 \n",
    "\n",
    "\n",
    "# IO_join1 = 3(200 + 2000) + 1000 OUT = 7600\n",
    "# IO_join2 = 1000 + 20 + 500 OUT = 1520\n",
    "# Total = IO_join1 + IO_join2 = 7600 + 1520 = 9120\n",
    "\n",
    "IO_Cost_HJ_2 = 9120\n",
    "\n",
    "# join1:\n",
    "# sort R = 2 * 20 = 40  (1 pass(R/W))\n",
    "# sort S = 4 * 200 = 800  (2 pass(R/W))\n",
    "# merge = 20 + 200 = 220  (1 pass(R))\n",
    "# IO_join1 = 40 + 800 + 220 + 100 = 1160  \n",
    "\n",
    "# join2:\n",
    "# sort RS = 4 * 100 = 400  (2 pass(R/W)) \n",
    "# sort T = 6 * 2000 = 12000 (since B * (B - 1) = 992 < 2000 we need 3 pass(R/W))\n",
    "# merge = 100 + 2000 = 2100 (1 pass(R))\n",
    "# OUT = 500\n",
    "# IO_join2 = 400 + 12000 + 2100 + 500 = 15000\n",
    "\n",
    "# Total = IO_join1 + IO_join2 = 15000 + 1160 = 16160\n",
    "\n",
    "IO_Cost_SMJ_1 = 16160\n",
    "\n",
    "# join1:\n",
    "# sort T = 6 * 2000 = 12000 (since B * (B - 1) = 992 < 2000 we need 3 pass(R/W))\n",
    "# sort S = 4 * 200 = 800 (2 pass(R/W))\n",
    "# merge = 200 + 2000 = 2200 (1 pass(R))\n",
    "# OUT = 1000\n",
    "# IO_join1 = 12000 + 800 + 2200 + 1000 = 16000\n",
    "\n",
    "# join2:\n",
    "# sort ST = 6 * 1000 = 6000 (3 pass(R/W))\n",
    "# sort R = 2 * 20 = 40 (1 pass(R/W))\n",
    "# merge = 20 + 1000 = 1020 (1 pass(R))\n",
    "# OUT = 500\n",
    "# IO_join2 = 6000 + 40 + 1020 + 500 = 7560\n",
    "\n",
    "# Total = IO_join1 + IO_join2 = 16000 + 7560 = 23560\n",
    "\n",
    "IO_Cost_SMJ_2 = 23560\n",
    "\n",
    "\n",
    "# IO_join1 = 20 + ceiling(20/30) * 200 + 100 = 320\n",
    "# IO_join2 = 100 + ceiling(100/30) * 2000 + 500 = 8600\n",
    "# Total = IO_join1 + IO_join2 = 320+8600 = 8920\n",
    "\n",
    "IO_Cost_BNLJ_1 = 8920\n",
    "\n",
    "# IO_join1: 200 + ceiling(200/30) * 2000 + 1000 = 15200\n",
    "# IO_join2: 20 + ceiling(20/30) * 1000 + 500 = 1520 \n",
    "# Total = IO_join1 + IO_join2 = 15200 + 1520 = 16720\n",
    "\n",
    "IO_Cost_BNLJ_2 = 16720"
   ]
  },
  {
   "cell_type": "markdown",
   "metadata": {},
   "source": [
    "<hr><hr>\n",
    "<div style=\"direction:rtl;line-height:200%;\">\n",
    "<font style=\"direction:rtl;\" face=\"XB Zar\" size=3>\n",
    "ب\n",
    "<br><br><br>\n",
    "query plan \n",
    "ای را در نظر بگیرید که در آن\n",
    "$join1 = R(a,b),S(b,c)$\n",
    "و \n",
    "$join2 = join1(a,b,c),T(c,d)$\n",
    ".\n",
    "مقداردهی از متغیر‌ها را بیابید که استفاده از HJ برای $join1$ و SMJ برای $join2$ هزینه‌ی کمتری از استفاده‌ی SMJ برای $join1$ و استفاده از HJ برای $join2$ داشته باشد.\n",
    "<br>\n",
    "اندازه‌ی خروجی‌هایی که برای P_RS و P_RT تعیین می‌کنید بایستی غیر صفر و مقدار درستی باشد\n",
    "(حداکثر اندازه‌ی خروجی برای $join1$ برابر P_R*P_S است).\n",
    "</font>    \n",
    "</div>"
   ]
  },
  {
   "cell_type": "code",
   "execution_count": 48,
   "metadata": {},
   "outputs": [
    {
     "name": "stdout",
     "output_type": "stream",
     "text": [
      "Query Plan1:\n",
      "IO Cost Join 1(HJ) = 1515\n",
      "IO Cost Join 2(SMJ) = 217\n",
      "IO Cost Total = 1732\n",
      "\n",
      "Query Plan2:\n",
      "IO Cost Join 1(SMJ) = 10535\n",
      "IO Cost Join 2(HJ) = 47\n",
      "IO Cost Total = 10582\n",
      "\n",
      "As you see Query Plan1 is much more economical\n"
     ]
    }
   ],
   "source": [
    "import math\n",
    "\n",
    "# It seems clever to use HJ for join_1 When P_R is small and P_S is large enough.\n",
    "# Also we can lessen join_2 inputs enough to make its cost small enough to not affect the comparison.\n",
    "# so we set the values like below:\n",
    "\n",
    "B = 15\n",
    "P_R = 10 \n",
    "P_S = 1500\n",
    "P_T = 40\n",
    "P_RS = 5\n",
    "P_RST = 2\n",
    "\n",
    "# These function are declared according to formulas used in previous part:\n",
    "def IO_Cost_Cal(R, S, B, OUT, join_type):\n",
    "    B -= 1\n",
    "    if join_type == \"HJ\":\n",
    "        first = min(R, S)\n",
    "        cost = 2 * math.ceil(math.log(math.ceil(float(first)/(B - 1)), B)) * (R + S) + (R + S) + OUT\n",
    "    elif join_type == \"SMJ\":\n",
    "        cost = 2 * R * (1 + math.ceil(math.log(math.ceil(float(R)/(B + 1)), B))) + 2 * S * (1 + math.ceil(math.log(math.ceil(float(S)/(B + 1)), B))) + R + S + OUT\n",
    "    return cost\n",
    "        \n",
    "query_plan1_IO_Cost = IO_Cost_Cal(P_R, P_S, B, P_RS, \"HJ\") + IO_Cost_Cal(P_RS, P_T, B, P_RST, \"SMJ\")\n",
    "query_plan2_IO_Cost = IO_Cost_Cal(P_R, P_S, B, P_RS, \"SMJ\") + IO_Cost_Cal(P_RS, P_T, B, P_RST, \"HJ\")\n",
    "\n",
    "print(\"Query Plan1:\")\n",
    "print(\"IO Cost Join 1(HJ) =\", str(IO_Cost_Cal(P_R, P_S, B, P_RS, \"HJ\")))\n",
    "print(\"IO Cost Join 2(SMJ) =\", str(IO_Cost_Cal(P_RS, P_T, B, P_RST, \"SMJ\")))\n",
    "print(\"IO Cost Total =\", query_plan1_IO_Cost)\n",
    "print()\n",
    "print(\"Query Plan2:\")\n",
    "print(\"IO Cost Join 1(SMJ) =\", str(IO_Cost_Cal(P_R, P_S, B, P_RS, \"SMJ\")))\n",
    "print(\"IO Cost Join 2(HJ) =\", str(IO_Cost_Cal(P_RS, P_T, B, P_RST, \"HJ\")))\n",
    "print(\"IO Cost Total =\", query_plan2_IO_Cost)\n",
    "print()\n",
    "print(\"As you see Query Plan1 is much more economical\")"
   ]
  },
  {
   "cell_type": "markdown",
   "metadata": {},
   "source": [
    "<hr><hr><hr>\n",
    "<div style=\"line-height:300%;\">\n",
    "<font face=\"XB Zar\" size=5>\n",
    "موفّق و سلامت باشید\n",
    "</font>\n",
    "</div>"
   ]
  },
  {
   "cell_type": "code",
   "execution_count": null,
   "metadata": {},
   "outputs": [],
   "source": []
  }
 ],
 "metadata": {
  "anaconda-cloud": {},
  "kernelspec": {
   "display_name": "Python 3",
   "language": "python",
   "name": "python3"
  },
  "language_info": {
   "codemirror_mode": {
    "name": "ipython",
    "version": 3
   },
   "file_extension": ".py",
   "mimetype": "text/x-python",
   "name": "python",
   "nbconvert_exporter": "python",
   "pygments_lexer": "ipython3",
   "version": "3.7.0"
  }
 },
 "nbformat": 4,
 "nbformat_minor": 2
}
